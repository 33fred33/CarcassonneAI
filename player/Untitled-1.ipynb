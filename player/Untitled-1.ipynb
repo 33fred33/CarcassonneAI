{
 "cells": [
  {
   "cell_type": "code",
   "execution_count": 1,
   "metadata": {},
   "outputs": [],
   "source": [
    "from TicTacToe_Game.TicTacToe import TicTacToeState #mod\n",
    "from player.Player import RandomPlayer\n",
    "from player.MCTS_Player import MCTSPlayer\n",
    "from player.MCTS_RAVE_Player import MCTS_RAVEPlayer\n",
    "\n",
    "import os\n",
    "import pandas as pd\n",
    "from datetime import date\n",
    "from collections import OrderedDict\n",
    "import time\n",
    "import multiprocessing as mp\n",
    "import numpy as np\n",
    "import ast\n",
    "import random"
   ]
  },
  {
   "cell_type": "code",
   "execution_count": 4,
   "metadata": {},
   "outputs": [
    {
     "name": "stdout",
     "output_type": "stream",
     "text": [
      "(Random)   TimeTaken: 0 secs  -  Turn: 0  -  Time:16:45:43\n",
      ".1.\n",
      "...\n",
      "...\n",
      "\n",
      "None\n",
      "21.\n",
      "...\n",
      "...\n",
      "\n",
      "None\n",
      "21.\n",
      "...\n",
      ".1.\n",
      "\n",
      "None\n",
      "21.\n",
      "...\n",
      ".12\n",
      "\n",
      "None\n",
      "211\n",
      "...\n",
      ".12\n",
      "\n",
      "None\n",
      "211\n",
      "..2\n",
      ".12\n",
      "\n",
      "None\n",
      "211\n",
      "..2\n",
      "112\n",
      "\n",
      "None\n",
      "211\n",
      ".22\n",
      "112\n",
      "\n",
      "-1\n"
     ]
    }
   ],
   "source": [
    "player1 = RandomPlayer()\n",
    "player2 = RandomPlayer()\n",
    "\n",
    "state = TicTacToeState(player1, player2)\n",
    "while (not state.isGameOver):\n",
    "    \n",
    "    if state.playerSymbol == 1:\n",
    "        m = player1.chooseAction(state)\n",
    "    else:\n",
    "        m = player2.chooseAction(state) # make move\n",
    "        \n",
    "    # make the move on the board\n",
    "    state.move(m)\n",
    "    print(state)\n",
    "    print(state.result)"
   ]
  }
 ],
 "metadata": {
  "interpreter": {
   "hash": "ee5cc6fef2d70a7e71ee3826687cbd150f18158e0b1eef11d4f4f92bb920e304"
  },
  "kernelspec": {
   "display_name": "Python 3.9.1 64-bit",
   "language": "python",
   "name": "python3"
  },
  "language_info": {
   "codemirror_mode": {
    "name": "ipython",
    "version": 3
   },
   "file_extension": ".py",
   "mimetype": "text/x-python",
   "name": "python",
   "nbconvert_exporter": "python",
   "pygments_lexer": "ipython3",
   "version": "3.9.1"
  },
  "orig_nbformat": 4
 },
 "nbformat": 4,
 "nbformat_minor": 2
}
